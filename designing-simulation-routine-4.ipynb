{
 "cells": [
  {
   "cell_type": "markdown",
   "metadata": {},
   "source": [
    "My reinforcement learning dataset will be used to train a GAN. GANs are great, but I don't trust them to simulate game replays. So, I'm going to explore transformations that will ensure my data is normally distributed."
   ]
  },
  {
   "cell_type": "code",
   "execution_count": 1,
   "metadata": {},
   "outputs": [
    {
     "name": "stdout",
     "output_type": "stream",
     "text": [
      "--2020-02-16 22:57:34--  https://raw.githubusercontent.com/wdurno/rl-hypothesis-1/726ea9451e3d1769d71580dd5f499f84c9a41ff9/docker/app/rl/rl.py\n",
      "Resolving raw.githubusercontent.com (raw.githubusercontent.com)... 151.101.0.133, 151.101.64.133, 151.101.128.133, ...\n",
      "Connecting to raw.githubusercontent.com (raw.githubusercontent.com)|151.101.0.133|:443... connected.\n",
      "HTTP request sent, awaiting response... 200 OK\n",
      "Length: 11260 (11K) [text/plain]\n",
      "Saving to: ‘rl.py’\n",
      "\n",
      "rl.py               100%[===================>]  11.00K  --.-KB/s    in 0s      \n",
      "\n",
      "2020-02-16 22:57:35 (83.4 MB/s) - ‘rl.py’ saved [11260/11260]\n",
      "\n"
     ]
    }
   ],
   "source": [
    "# load blobs \n",
    "! wget https://raw.githubusercontent.com/wdurno/rl-hypothesis-1/726ea9451e3d1769d71580dd5f499f84c9a41ff9/docker/app/rl/rl.py"
   ]
  },
  {
   "cell_type": "code",
   "execution_count": 2,
   "metadata": {},
   "outputs": [
    {
     "name": "stdout",
     "output_type": "stream",
     "text": [
      "Copying gs://gdax-dnn-tmp-1/rl-full.h5-backup...\n",
      "/ [1 files][  6.5 MiB/  6.5 MiB]                                                \n",
      "Operation completed over 1 objects/6.5 MiB.                                      \n"
     ]
    }
   ],
   "source": [
    "! gsutil cp gs://gdax-dnn-tmp-1/rl-full.h5-backup ."
   ]
  },
  {
   "cell_type": "code",
   "execution_count": 3,
   "metadata": {},
   "outputs": [
    {
     "name": "stdout",
     "output_type": "stream",
     "text": [
      "Copying gs://gdax-dnn-tmp-1/memory.pkl-backup...\n",
      "- [1 files][ 10.6 GiB/ 10.6 GiB]   87.1 MiB/s                                   \n",
      "Operation completed over 1 objects/10.6 GiB.                                     \n"
     ]
    }
   ],
   "source": [
    "! gsutil cp gs://gdax-dnn-tmp-1/memory.pkl-backup ."
   ]
  },
  {
   "cell_type": "code",
   "execution_count": 4,
   "metadata": {},
   "outputs": [],
   "source": [
    "import pickle\n",
    "with open('memory.pkl-backup', 'rb') as f:\n",
    "    mem = pickle.load(f)"
   ]
  },
  {
   "cell_type": "code",
   "execution_count": 5,
   "metadata": {},
   "outputs": [
    {
     "name": "stdout",
     "output_type": "stream",
     "text": [
      "<class 'collections.deque'>\n",
      "400000\n",
      "<class 'tuple'>\n",
      "5\n",
      "[<class 'numpy.ndarray'>, <class 'numpy.int64'>, <class 'numpy.float64'>, <class 'numpy.ndarray'>, <class 'bool'>]\n",
      "((1, 84, 84, 4), 0, 0.0, (1, 84, 84, 4), False)\n",
      "('state', 'action', 'reward', 'next_state', 'dead')\n"
     ]
    }
   ],
   "source": [
    "print(type(mem))\n",
    "print(len(mem))\n",
    "print(type(mem[0]))\n",
    "print(len(mem[0]))\n",
    "print(list(map(type, mem[0])))\n",
    "print((mem[0][0].shape, mem[0][1], mem[0][2], mem[0][3].shape, mem[0][4]))\n",
    "print(('state', 'action', 'reward', 'next_state', 'dead'))"
   ]
  },
  {
   "cell_type": "markdown",
   "metadata": {},
   "source": [
    "I won't trust a GAN to simulate game transitions, but I do trust it to simulate normally distributed data. So, I'm going to apply some transition learning."
   ]
  },
  {
   "cell_type": "code",
   "execution_count": 6,
   "metadata": {},
   "outputs": [
    {
     "name": "stdout",
     "output_type": "stream",
     "text": [
      "Collecting tensorflow\n",
      "  Downloading tensorflow-2.1.0-cp35-cp35m-manylinux2010_x86_64.whl (421.8 MB)\n",
      "\u001b[K     |████████████████████████████████| 421.8 MB 15 kB/s s eta 0:00:011\n",
      "\u001b[?25hCollecting astor>=0.6.0\n",
      "  Downloading astor-0.8.1-py2.py3-none-any.whl (27 kB)\n",
      "Collecting absl-py>=0.7.0\n",
      "  Downloading absl-py-0.9.0.tar.gz (104 kB)\n",
      "\u001b[K     |████████████████████████████████| 104 kB 67.3 MB/s eta 0:00:01\n",
      "\u001b[?25hCollecting numpy<2.0,>=1.16.0\n",
      "  Downloading numpy-1.18.1-cp35-cp35m-manylinux1_x86_64.whl (19.9 MB)\n",
      "\u001b[K     |████████████████████████████████| 19.9 MB 65.6 MB/s eta 0:00:01\n",
      "\u001b[?25hCollecting gast==0.2.2\n",
      "  Downloading gast-0.2.2.tar.gz (10 kB)\n",
      "Collecting keras-applications>=1.0.8\n",
      "  Downloading Keras_Applications-1.0.8-py3-none-any.whl (50 kB)\n",
      "\u001b[K     |████████████████████████████████| 50 kB 8.7 MB/s  eta 0:00:01\n",
      "\u001b[?25hRequirement already satisfied: wrapt>=1.11.1 in /usr/local/lib/python3.5/dist-packages (from tensorflow) (1.11.2)\n",
      "Collecting scipy==1.4.1; python_version >= \"3\"\n",
      "  Downloading scipy-1.4.1-cp35-cp35m-manylinux1_x86_64.whl (26.0 MB)\n",
      "\u001b[K     |████████████████████████████████| 26.0 MB 65.2 MB/s eta 0:00:01\n",
      "\u001b[?25hRequirement already satisfied: grpcio>=1.8.6 in /usr/local/lib/python3.5/dist-packages (from tensorflow) (1.26.0)\n",
      "Requirement already satisfied: six>=1.12.0 in /usr/local/lib/python3.5/dist-packages (from tensorflow) (1.14.0)\n",
      "Collecting tensorboard<2.2.0,>=2.1.0\n",
      "  Downloading tensorboard-2.1.0-py3-none-any.whl (3.8 MB)\n",
      "\u001b[K     |████████████████████████████████| 3.8 MB 66.8 MB/s eta 0:00:01\n",
      "\u001b[?25hCollecting termcolor>=1.1.0\n",
      "  Downloading termcolor-1.1.0.tar.gz (3.9 kB)\n",
      "Collecting tensorflow-estimator<2.2.0,>=2.1.0rc0\n",
      "  Downloading tensorflow_estimator-2.1.0-py2.py3-none-any.whl (448 kB)\n",
      "\u001b[K     |████████████████████████████████| 448 kB 38.5 MB/s eta 0:00:01\n",
      "\u001b[?25hCollecting keras-preprocessing>=1.1.0\n",
      "  Downloading Keras_Preprocessing-1.1.0-py2.py3-none-any.whl (41 kB)\n",
      "\u001b[K     |████████████████████████████████| 41 kB 970 kB/s  eta 0:00:01\n",
      "\u001b[?25hCollecting opt-einsum>=2.3.2\n",
      "  Downloading opt_einsum-3.1.0.tar.gz (69 kB)\n",
      "\u001b[K     |████████████████████████████████| 69 kB 10.0 MB/s eta 0:00:01\n",
      "\u001b[?25hRequirement already satisfied: protobuf>=3.8.0 in /usr/local/lib/python3.5/dist-packages (from tensorflow) (3.11.2)\n",
      "Collecting google-pasta>=0.1.6\n",
      "  Downloading google_pasta-0.1.8-py3-none-any.whl (57 kB)\n",
      "\u001b[K     |████████████████████████████████| 57 kB 6.7 MB/s  eta 0:00:01\n",
      "\u001b[?25hRequirement already satisfied: wheel>=0.26; python_version >= \"3\" in /usr/lib/python3/dist-packages (from tensorflow) (0.29.0)\n",
      "Requirement already satisfied: h5py in /usr/local/lib/python3.5/dist-packages (from keras-applications>=1.0.8->tensorflow) (2.10.0)\n",
      "Requirement already satisfied: requests<3,>=2.21.0 in /usr/local/lib/python3.5/dist-packages (from tensorboard<2.2.0,>=2.1.0->tensorflow) (2.22.0)\n",
      "Requirement already satisfied: setuptools>=41.0.0 in /usr/local/lib/python3.5/dist-packages (from tensorboard<2.2.0,>=2.1.0->tensorflow) (45.1.0)\n",
      "Requirement already satisfied: google-auth<2,>=1.6.3 in /usr/local/lib/python3.5/dist-packages (from tensorboard<2.2.0,>=2.1.0->tensorflow) (1.11.0)\n",
      "Requirement already satisfied: werkzeug>=0.11.15 in /usr/local/lib/python3.5/dist-packages (from tensorboard<2.2.0,>=2.1.0->tensorflow) (0.16.1)\n",
      "Requirement already satisfied: markdown>=2.6.8 in /usr/local/lib/python3.5/dist-packages (from tensorboard<2.2.0,>=2.1.0->tensorflow) (3.1.1)\n",
      "Requirement already satisfied: google-auth-oauthlib<0.5,>=0.4.1 in /usr/local/lib/python3.5/dist-packages (from tensorboard<2.2.0,>=2.1.0->tensorflow) (0.4.1)\n",
      "Requirement already satisfied: chardet<3.1.0,>=3.0.2 in /usr/local/lib/python3.5/dist-packages (from requests<3,>=2.21.0->tensorboard<2.2.0,>=2.1.0->tensorflow) (3.0.4)\n",
      "Requirement already satisfied: urllib3!=1.25.0,!=1.25.1,<1.26,>=1.21.1 in /usr/local/lib/python3.5/dist-packages (from requests<3,>=2.21.0->tensorboard<2.2.0,>=2.1.0->tensorflow) (1.24.2)\n",
      "Requirement already satisfied: certifi>=2017.4.17 in /usr/local/lib/python3.5/dist-packages (from requests<3,>=2.21.0->tensorboard<2.2.0,>=2.1.0->tensorflow) (2019.11.28)\n",
      "Requirement already satisfied: idna<2.9,>=2.5 in /usr/local/lib/python3.5/dist-packages (from requests<3,>=2.21.0->tensorboard<2.2.0,>=2.1.0->tensorflow) (2.8)\n",
      "Requirement already satisfied: pyasn1-modules>=0.2.1 in /usr/local/lib/python3.5/dist-packages (from google-auth<2,>=1.6.3->tensorboard<2.2.0,>=2.1.0->tensorflow) (0.2.8)\n",
      "Requirement already satisfied: cachetools<5.0,>=2.0.0 in /usr/local/lib/python3.5/dist-packages (from google-auth<2,>=1.6.3->tensorboard<2.2.0,>=2.1.0->tensorflow) (4.0.0)\n",
      "Requirement already satisfied: rsa<4.1,>=3.1.4 in /usr/local/lib/python3.5/dist-packages (from google-auth<2,>=1.6.3->tensorboard<2.2.0,>=2.1.0->tensorflow) (4.0)\n",
      "Requirement already satisfied: requests-oauthlib>=0.7.0 in /usr/local/lib/python3.5/dist-packages (from google-auth-oauthlib<0.5,>=0.4.1->tensorboard<2.2.0,>=2.1.0->tensorflow) (1.3.0)\n",
      "Requirement already satisfied: pyasn1<0.5.0,>=0.4.6 in /usr/local/lib/python3.5/dist-packages (from pyasn1-modules>=0.2.1->google-auth<2,>=1.6.3->tensorboard<2.2.0,>=2.1.0->tensorflow) (0.4.8)\n",
      "Requirement already satisfied: oauthlib>=3.0.0 in /usr/local/lib/python3.5/dist-packages (from requests-oauthlib>=0.7.0->google-auth-oauthlib<0.5,>=0.4.1->tensorboard<2.2.0,>=2.1.0->tensorflow) (3.1.0)\n",
      "Building wheels for collected packages: absl-py, gast, termcolor, opt-einsum\n",
      "  Building wheel for absl-py (setup.py) ... \u001b[?25ldone\n",
      "\u001b[?25h  Created wheel for absl-py: filename=absl_py-0.9.0-py3-none-any.whl size=119398 sha256=041cfb3d8b9a3f91a95f547e7bccc82c75d45b83c20a8b78ed5d65d7fa7b5e3c\n",
      "  Stored in directory: /home/jupyter/.cache/pip/wheels/00/c0/fe/b499a8663e1697aa205f83a8b15a53a29dc4b9831643b0064b\n",
      "  Building wheel for gast (setup.py) ... \u001b[?25ldone\n",
      "\u001b[?25h  Created wheel for gast: filename=gast-0.2.2-py3-none-any.whl size=7636 sha256=bc2900c9da376b1e06fba075840a80c8cff667eca0b845513117117e4ffd251b\n",
      "  Stored in directory: /home/jupyter/.cache/pip/wheels/c4/b2/f9/b3052fd0a0c1e61f4eb5b879161a8b6670fb1c26951a5ad5d6\n",
      "  Building wheel for termcolor (setup.py) ... \u001b[?25ldone\n",
      "\u001b[?25h  Created wheel for termcolor: filename=termcolor-1.1.0-py3-none-any.whl size=5680 sha256=bd35470bda82757578bef4e3afae65ff865ae7496804edd6a87b184c849c568b\n",
      "  Stored in directory: /home/jupyter/.cache/pip/wheels/91/0e/11/1f1321dce76e9c542907008e4a94ff79f8bf525a3fa32b09f3\n",
      "  Building wheel for opt-einsum (setup.py) ... \u001b[?25ldone\n",
      "\u001b[?25h  Created wheel for opt-einsum: filename=opt_einsum-3.1.0-py3-none-any.whl size=63904 sha256=37b016689ae12f54d6e6cdb25390388396e04445a6154b886c737fb804b12a2c\n",
      "  Stored in directory: /home/jupyter/.cache/pip/wheels/b5/d4/1a/e2a53ff8ed8b1ee7ec1394d7253a93c555a669767a63d1b2a4\n",
      "Successfully built absl-py gast termcolor opt-einsum\n",
      "\u001b[31mERROR: imageio 2.6.1 requires pillow, which is not installed.\u001b[0m\n",
      "\u001b[31mERROR: scikit-image 0.15.0 requires pillow>=4.3.0, which is not installed.\u001b[0m\n",
      "Installing collected packages: astor, absl-py, numpy, gast, keras-applications, scipy, tensorboard, termcolor, tensorflow-estimator, keras-preprocessing, opt-einsum, google-pasta, tensorflow\n",
      "\u001b[33m  WARNING: The scripts f2py, f2py3 and f2py3.5 are installed in '/home/jupyter/.local/bin' which is not on PATH.\n",
      "  Consider adding this directory to PATH or, if you prefer to suppress this warning, use --no-warn-script-location.\u001b[0m\n",
      "\u001b[33m  WARNING: The script tensorboard is installed in '/home/jupyter/.local/bin' which is not on PATH.\n",
      "  Consider adding this directory to PATH or, if you prefer to suppress this warning, use --no-warn-script-location.\u001b[0m\n",
      "\u001b[33m  WARNING: The scripts estimator_ckpt_converter, saved_model_cli, tensorboard, tf_upgrade_v2, tflite_convert, toco and toco_from_protos are installed in '/home/jupyter/.local/bin' which is not on PATH.\n",
      "  Consider adding this directory to PATH or, if you prefer to suppress this warning, use --no-warn-script-location.\u001b[0m\n",
      "Successfully installed absl-py-0.9.0 astor-0.8.1 gast-0.2.2 google-pasta-0.1.8 keras-applications-1.0.8 keras-preprocessing-1.1.0 numpy-1.18.1 opt-einsum-3.1.0 scipy-1.4.1 tensorboard-2.1.0 tensorflow-2.1.0 tensorflow-estimator-2.1.0 termcolor-1.1.0\n",
      "Collecting keras\n",
      "  Downloading Keras-2.3.1-py2.py3-none-any.whl (377 kB)\n",
      "\u001b[K     |████████████████████████████████| 377 kB 4.9 MB/s eta 0:00:01\n",
      "\u001b[?25hRequirement already satisfied: scipy>=0.14 in ./.local/lib/python3.5/site-packages (from keras) (1.4.1)\n",
      "Requirement already satisfied: numpy>=1.9.1 in ./.local/lib/python3.5/site-packages (from keras) (1.18.1)\n",
      "Requirement already satisfied: h5py in /usr/local/lib/python3.5/dist-packages (from keras) (2.10.0)\n",
      "Requirement already satisfied: pyyaml in /usr/local/lib/python3.5/dist-packages (from keras) (5.3)\n",
      "Requirement already satisfied: keras-applications>=1.0.6 in ./.local/lib/python3.5/site-packages (from keras) (1.0.8)\n",
      "Requirement already satisfied: keras-preprocessing>=1.0.5 in ./.local/lib/python3.5/site-packages (from keras) (1.1.0)\n",
      "Requirement already satisfied: six>=1.9.0 in /usr/local/lib/python3.5/dist-packages (from keras) (1.14.0)\n",
      "Installing collected packages: keras\n",
      "Successfully installed keras-2.3.1\n"
     ]
    }
   ],
   "source": [
    "# missing dependencies \n",
    "import sys\n",
    "! pip install --user tensorflow\n",
    "! pip install --user keras\n",
    "sys.path.append('/home/jupyter/.local/lib/python3.5/site-packages')"
   ]
  },
  {
   "cell_type": "code",
   "execution_count": 7,
   "metadata": {},
   "outputs": [
    {
     "name": "stderr",
     "output_type": "stream",
     "text": [
      "Using TensorFlow backend.\n"
     ]
    },
    {
     "name": "stdout",
     "output_type": "stream",
     "text": [
      "Model: \"sequential_1\"\n",
      "_________________________________________________________________\n",
      "Layer (type)                 Output Shape              Param #   \n",
      "=================================================================\n",
      "conv2d_1 (Conv2D)            (None, 20, 20, 32)        8224      \n",
      "_________________________________________________________________\n",
      "conv2d_2 (Conv2D)            (None, 9, 9, 64)          32832     \n",
      "_________________________________________________________________\n",
      "conv2d_3 (Conv2D)            (None, 7, 7, 64)          36928     \n",
      "_________________________________________________________________\n",
      "flatten_1 (Flatten)          (None, 3136)              0         \n",
      "_________________________________________________________________\n",
      "re_lu_1 (ReLU)               (None, 3136)              0         \n",
      "_________________________________________________________________\n",
      "dense_1 (Dense)              (None, 512)               1606144   \n",
      "_________________________________________________________________\n",
      "re_lu_2 (ReLU)               (None, 512)               0         \n",
      "_________________________________________________________________\n",
      "dense_2 (Dense)              (None, 3)                 1539      \n",
      "=================================================================\n",
      "Total params: 1,685,667\n",
      "Trainable params: 1,685,667\n",
      "Non-trainable params: 0\n",
      "_________________________________________________________________\n"
     ]
    }
   ],
   "source": [
    "from keras.models import Sequential\n",
    "from keras.layers import Dense, Flatten\n",
    "from keras.layers.advanced_activations import ReLU\n",
    "from keras.layers.convolutional import Conv2D\n",
    "\n",
    "def build_model(state_size, action_size):\n",
    "    model = Sequential()\n",
    "    model.add(Conv2D(32, (8, 8), strides=(4, 4), activation='relu', input_shape=state_size))\n",
    "    model.add(Conv2D(64, (4, 4), strides=(2, 2), activation='relu'))\n",
    "    model.add(Conv2D(64, (3, 3), strides=(1, 1)))\n",
    "    model.add(Flatten())\n",
    "    model.add(ReLU())\n",
    "    model.add(Dense(512))\n",
    "    model.add(ReLU())\n",
    "    model.add(Dense(action_size))\n",
    "    model.summary()\n",
    "    return model\n",
    "\n",
    "full_rl_model = build_model((84, 84, 4), 3)\n",
    "full_rl_model.load_weights('./rl-full.h5-backup') "
   ]
  },
  {
   "cell_type": "code",
   "execution_count": 8,
   "metadata": {},
   "outputs": [
    {
     "data": {
      "text/plain": [
       "array([[79.48269 , 70.353134, 69.84472 ]], dtype=float32)"
      ]
     },
     "execution_count": 8,
     "metadata": {},
     "output_type": "execute_result"
    }
   ],
   "source": [
    "# the model simueltaneously evaluates all actions\n",
    "full_rl_model.predict(mem[0][0])"
   ]
  },
  {
   "cell_type": "code",
   "execution_count": 9,
   "metadata": {},
   "outputs": [],
   "source": [
    "# make transfer learning models \n",
    "from keras.models import Model\n",
    "rl_1_dense =  Model(inputs=full_rl_model.inputs, outputs=full_rl_model.layers[5].output)\n",
    "rl_convs =  Model(inputs=full_rl_model.inputs, outputs=full_rl_model.layers[3].output)"
   ]
  },
  {
   "cell_type": "code",
   "execution_count": 10,
   "metadata": {},
   "outputs": [
    {
     "name": "stdout",
     "output_type": "stream",
     "text": [
      "rl_1_dense shape: (1, 512)\n",
      "rl_convs shape: (1, 3136)\n"
     ]
    }
   ],
   "source": [
    "# Let's compare these models. \n",
    "# I'm concerned about \n",
    "# - large tensor sizes eating memory\n",
    "# - Normally(-ish) distributed data \n",
    "# - sufficient abstraction--I want to abstract away visual processing \n",
    "print('rl_1_dense shape: ' + str(rl_1_dense.predict(mem[0][0]).shape))\n",
    "print('rl_convs shape: ' + str(rl_convs.predict(mem[0][0]).shape))"
   ]
  },
  {
   "cell_type": "markdown",
   "metadata": {},
   "source": [
    "Keeping one dense layer will use about one sixth the memory burden and further abstraction. To evaluate normal distributions, we'll need some plots. Relus have been used, so a transform will be necessary."
   ]
  },
  {
   "cell_type": "code",
   "execution_count": 11,
   "metadata": {},
   "outputs": [],
   "source": [
    "# histogram time \n",
    "import matplotlib.pyplot as plt\n",
    "%matplotlib inline\n",
    "def hist(x, num_bins=50, **kwargs):\n",
    "    plt.hist(x, num_bins, **kwargs)\n",
    "    plt.show()\n",
    "    pass"
   ]
  },
  {
   "cell_type": "code",
   "execution_count": 12,
   "metadata": {},
   "outputs": [
    {
     "name": "stdout",
     "output_type": "stream",
     "text": [
      "(10000, 84, 84, 4)\n",
      "(10000, 84, 84, 4)\n"
     ]
    }
   ],
   "source": [
    "# sample consecutive states \n",
    "import random \n",
    "import numpy as np\n",
    "n = 10000 # sample size \n",
    "\n",
    "mem_sub_sample = random.sample(mem, n)\n",
    "before_sample = np.squeeze(np.array(list(map(lambda x: x[0], mem_sub_sample)))) \n",
    "after_sample = np.squeeze(np.array(list(map(lambda x: x[3], mem_sub_sample)))) \n",
    "print(after_sample.shape)\n",
    "print(before_sample.shape)"
   ]
  },
  {
   "cell_type": "code",
   "execution_count": 13,
   "metadata": {},
   "outputs": [],
   "source": [
    "# generate paired data \n",
    "def predict_and_flatten(model, data=before_sample):\n",
    "    return model.predict(data)\n",
    "\n",
    "rl_1_dense_vals_before = predict_and_flatten(rl_1_dense, before_sample)\n",
    "rl_convs_vals_before = predict_and_flatten(rl_convs, before_sample)\n",
    "rl_1_dense_vals_after = predict_and_flatten(rl_1_dense, after_sample)\n",
    "rl_convs_vals_after = predict_and_flatten(rl_convs, after_sample)"
   ]
  },
  {
   "cell_type": "code",
   "execution_count": 14,
   "metadata": {},
   "outputs": [
    {
     "name": "stdout",
     "output_type": "stream",
     "text": [
      "(10000, 512)\n",
      "(10000, 3136)\n"
     ]
    }
   ],
   "source": [
    "print(rl_1_dense_vals_before.shape)\n",
    "print(rl_convs_vals_before.shape)"
   ]
  },
  {
   "cell_type": "code",
   "execution_count": 15,
   "metadata": {},
   "outputs": [],
   "source": [
    "# consecutive time-steps are likely correlated ... verifying \n",
    "def correlations(before, after):\n",
    "    n_cols = before.shape[1]\n",
    "    correlations = list(map(lambda idx: np.corrcoef(before[:,idx], after[:,idx])[1][0], range(n_cols)))\n",
    "    return correlations\n",
    "\n",
    "rl_1_dense_vals_correlations = correlations(rl_1_dense_vals_before, rl_1_dense_vals_after)\n",
    "rl_convs_vals_correlations = correlations(rl_convs_vals_before, rl_convs_vals_after) "
   ]
  },
  {
   "cell_type": "code",
   "execution_count": 16,
   "metadata": {},
   "outputs": [
    {
     "data": {
      "image/png": "[encoded data removed]",
      "text/plain": [
       "<Figure size 432x288 with 1 Axes>"
      ]
     },
     "metadata": {
      "needs_background": "light"
     },
     "output_type": "display_data"
    }
   ],
   "source": [
    "hist(rl_1_dense_vals_correlations)"
   ]
  },
  {
   "cell_type": "code",
   "execution_count": 17,
   "metadata": {},
   "outputs": [
    {
     "data": {
      "image/png": "[encoded data removed]",
      "text/plain": [
       "<Figure size 432x288 with 1 Axes>"
      ]
     },
     "metadata": {
      "needs_background": "light"
     },
     "output_type": "display_data"
    }
   ],
   "source": [
    "hist(rl_convs_vals_correlations)"
   ]
  },
  {
   "cell_type": "markdown",
   "metadata": {},
   "source": [
    "Time steps have non-trivial correlations, so I'll attempt to model differences."
   ]
  },
  {
   "cell_type": "code",
   "execution_count": 18,
   "metadata": {},
   "outputs": [],
   "source": [
    "rl_1_dense_dels = rl_1_dense_vals_after - rl_1_dense_vals_before\n",
    "rl_convs_dels = rl_convs_vals_after - rl_convs_vals_before"
   ]
  },
  {
   "cell_type": "markdown",
   "metadata": {},
   "source": [
    "Platting raw deltas..."
   ]
  },
  {
   "cell_type": "code",
   "execution_count": 19,
   "metadata": {},
   "outputs": [
    {
     "data": {
      "image/png": "[encoded data removed]",
      "text/plain": [
       "<Figure size 432x288 with 1 Axes>"
      ]
     },
     "metadata": {
      "needs_background": "light"
     },
     "output_type": "display_data"
    }
   ],
   "source": [
    "hist(rl_1_dense_dels.flatten())"
   ]
  },
  {
   "cell_type": "code",
   "execution_count": 20,
   "metadata": {},
   "outputs": [
    {
     "data": {
      "image/png": "[encoded data removed]",
      "text/plain": [
       "<Figure size 432x288 with 1 Axes>"
      ]
     },
     "metadata": {
      "needs_background": "light"
     },
     "output_type": "display_data"
    }
   ],
   "source": [
    "hist(rl_convs_dels.flatten())"
   ]
  },
  {
   "cell_type": "markdown",
   "metadata": {},
   "source": [
    "Trimming outliers..."
   ]
  },
  {
   "cell_type": "code",
   "execution_count": 21,
   "metadata": {},
   "outputs": [
    {
     "data": {
      "image/png": "[encoded data removed]",
      "text/plain": [
       "<Figure size 432x288 with 1 Axes>"
      ]
     },
     "metadata": {
      "needs_background": "light"
     },
     "output_type": "display_data"
    }
   ],
   "source": [
    "hist(np.clip(rl_1_dense_dels.flatten(), -150, 150))"
   ]
  },
  {
   "cell_type": "code",
   "execution_count": 22,
   "metadata": {},
   "outputs": [
    {
     "data": {
      "image/png": "[encoded data removed]",
      "text/plain": [
       "<Figure size 432x288 with 1 Axes>"
      ]
     },
     "metadata": {
      "needs_background": "light"
     },
     "output_type": "display_data"
    }
   ],
   "source": [
    "hist(np.clip(rl_convs_dels.flatten(), -100, 100))"
   ]
  },
  {
   "cell_type": "markdown",
   "metadata": {},
   "source": [
    "Having a near-perfect normal distribution, I'll proceed to attempt simulating `rl_dense_dels`."
   ]
  },
  {
   "cell_type": "code",
   "execution_count": 23,
   "metadata": {},
   "outputs": [
    {
     "data": {
      "image/png": "[encoded data removed]",
      "text/plain": [
       "<Figure size 432x288 with 1 Axes>"
      ]
     },
     "metadata": {
      "needs_background": "light"
     },
     "output_type": "display_data"
    }
   ],
   "source": [
    "hist(np.clip(rl_1_dense_vals_before.flatten(), -400, 400))"
   ]
  },
  {
   "cell_type": "markdown",
   "metadata": {},
   "source": [
    "Simulating differentials is insufficient, so we'll also simulate the initial state `rl_1_dense_vals_before`. Simulating the initial state and difference has a whitening effect.\n",
    "\n",
    "Now, we must deal with the fact that `dead` is Boolean. No transform will produce anything nearly normally distributed from this. Worse yet, `reward` suffers similarly..."
   ]
  },
  {
   "cell_type": "code",
   "execution_count": 24,
   "metadata": {},
   "outputs": [
    {
     "data": {
      "image/png": "[encoded data removed]",
      "text/plain": [
       "<Figure size 432x288 with 1 Axes>"
      ]
     },
     "metadata": {
      "needs_background": "light"
     },
     "output_type": "display_data"
    }
   ],
   "source": [
    "rewards = np.array(list(map(lambda x: x[2], mem))) \n",
    "hist(rewards)"
   ]
  },
  {
   "cell_type": "code",
   "execution_count": 25,
   "metadata": {},
   "outputs": [
    {
     "name": "stdout",
     "output_type": "stream",
     "text": [
      "Number of rewards == 1: 12810\n",
      "Proportion of rewards == 1: 0.032025\n",
      "Distinct reward values: [0. 1.]\n"
     ]
    }
   ],
   "source": [
    "print('Number of rewards == 1: ' + str(len(rewards[rewards > .5])))\n",
    "print('Proportion of rewards == 1: ' + str(len(rewards[rewards > .5])/float(len(rewards))))\n",
    "print('Distinct reward values: ' + str(np.unique(rewards)))"
   ]
  },
  {
   "cell_type": "code",
   "execution_count": 26,
   "metadata": {},
   "outputs": [
    {
     "data": {
      "image/png": "[encoded data removed]",
      "text/plain": [
       "<Figure size 432x288 with 1 Axes>"
      ]
     },
     "metadata": {
      "needs_background": "light"
     },
     "output_type": "display_data"
    }
   ],
   "source": [
    "# Let's see how `dead` is distributed \n",
    "deads = np.array(list(map(lambda x: int(x[4]), mem))) \n",
    "hist(deads)"
   ]
  },
  {
   "cell_type": "code",
   "execution_count": 27,
   "metadata": {},
   "outputs": [
    {
     "name": "stdout",
     "output_type": "stream",
     "text": [
      "Number of deads == 1: 1544\n",
      "Proportion of deads == 1: 0.00386\n",
      "Distinct dead values: [0 1]\n"
     ]
    }
   ],
   "source": [
    "print('Number of deads == 1: ' + str(len(deads[deads > .5])))\n",
    "print('Proportion of deads == 1: ' + str(len(deads[deads > .5])/float(len(deads))))\n",
    "print('Distinct dead values: ' + str(np.unique(deads)))"
   ]
  },
  {
   "cell_type": "code",
   "execution_count": 28,
   "metadata": {},
   "outputs": [
    {
     "name": "stdout",
     "output_type": "stream",
     "text": [
      "dead and rewarded: 0.0\n",
      "dead and not rewarded: 1544.0\n",
      "not dead and rewarded: 12810.0\n",
      "not dead and not rewarded: 385646.0\n"
     ]
    }
   ],
   "source": [
    "# Is there much overlap between `deads` and `rewards`?\n",
    "print('dead and rewarded: ' + str(np.sum(deads * rewards)))\n",
    "print('dead and not rewarded: ' + str(np.sum(deads * (1.-rewards))))\n",
    "print('not dead and rewarded: ' + str(np.sum((1.-deads) * rewards)))\n",
    "print('not dead and not rewarded: ' + str(np.sum((1.-deads) * (1.-rewards)))) "
   ]
  },
  {
   "cell_type": "code",
   "execution_count": 29,
   "metadata": {},
   "outputs": [
    {
     "data": {
      "image/png": "[encoded data removed]",
      "text/plain": [
       "<Figure size 432x288 with 1 Axes>"
      ]
     },
     "metadata": {
      "needs_background": "light"
     },
     "output_type": "display_data"
    }
   ],
   "source": [
    "# The same issue is true for `actions`.\n",
    "actions = np.array(list(map(lambda x: int(x[1]), mem))) \n",
    "hist(actions)"
   ]
  },
  {
   "cell_type": "code",
   "execution_count": 36,
   "metadata": {},
   "outputs": [
    {
     "data": {
      "image/png": "[encoded data removed]",
      "text/plain": [
       "<Figure size 432x288 with 1 Axes>"
      ]
     },
     "metadata": {
      "needs_background": "light"
     },
     "output_type": "display_data"
    }
   ],
   "source": [
    "# hunting for almost-sure probabilities...\n",
    "hist(np.array(list(map(lambda x: int(x[1]), [m for m in mem if m[2] < .5 and m[4]]))) ) # unrewarded and dead "
   ]
  },
  {
   "cell_type": "code",
   "execution_count": 34,
   "metadata": {},
   "outputs": [
    {
     "data": {
      "image/png": "[encoded data removed]",
      "text/plain": [
       "<Figure size 432x288 with 1 Axes>"
      ]
     },
     "metadata": {
      "needs_background": "light"
     },
     "output_type": "display_data"
    }
   ],
   "source": [
    "hist(np.array(list(map(lambda x: int(x[1]), [m for m in mem if m[2] > .5 and not m[4]]))) ) # rewarded and not dead "
   ]
  },
  {
   "cell_type": "code",
   "execution_count": 35,
   "metadata": {},
   "outputs": [
    {
     "data": {
      "image/png": "[encoded data removed]",
      "text/plain": [
       "<Figure size 432x288 with 1 Axes>"
      ]
     },
     "metadata": {
      "needs_background": "light"
     },
     "output_type": "display_data"
    }
   ],
   "source": [
    "hist(np.array(list(map(lambda x: int(x[1]), [m for m in mem if m[2] < .5 and not m[4]]))) ) # unrewarded and not dead "
   ]
  },
  {
   "cell_type": "markdown",
   "metadata": {},
   "source": [
    "To avoid breaking into too many subcases, I'll assume $a_t$ occurs uniformly over $(r_t, d_t)$."
   ]
  },
  {
   "cell_type": "code",
   "execution_count": 30,
   "metadata": {},
   "outputs": [
    {
     "name": "stdout",
     "output_type": "stream",
     "text": [
      "actions == 0 and dead and not rewarded: 440.0\n",
      "actions == 1 and dead and not rewarded: 397.0\n",
      "actions == 2 and dead and not rewarded: 707.0\n",
      "actions == 0 and not dead and rewarded: 6318.0\n",
      "actions == 1 and not dead and rewarded: 3073.0\n",
      "actions == 2 and not dead and rewarded: 3419.0\n",
      "actions == 0 and not dead and not rewarded: 141214.0\n",
      "actions == 1 and not dead and not rewarded: 112614.0\n",
      "actions == 2 and not dead and not rewarded: 131818.0\n"
     ]
    }
   ],
   "source": [
    "# We must avoid attempting to learn cases with no samples, so we'll thoroughly check for mutual exclusitivities.\n",
    "print('actions == 0 and dead and not rewarded: ' + str(np.sum((actions == 0.) * deads * (1.-rewards))))\n",
    "print('actions == 1 and dead and not rewarded: ' + str(np.sum((actions == 1.) * deads * (1.-rewards))))\n",
    "print('actions == 2 and dead and not rewarded: ' + str(np.sum((actions == 2.) * deads * (1.-rewards))))\n",
    "print('actions == 0 and not dead and rewarded: ' + str(np.sum((actions == 0.) * (1.-deads) * rewards)))\n",
    "print('actions == 1 and not dead and rewarded: ' + str(np.sum((actions == 1.) * (1.-deads) * rewards)))\n",
    "print('actions == 2 and not dead and rewarded: ' + str(np.sum((actions == 2.) * (1.-deads) * rewards)))\n",
    "print('actions == 0 and not dead and not rewarded: ' + str(np.sum((actions == 0.) * (1.-deads) * (1.-rewards))))\n",
    "print('actions == 1 and not dead and not rewarded: ' + str(np.sum((actions == 1.) * (1.-deads) * (1.-rewards))))\n",
    "print('actions == 2 and not dead and not rewarded: ' + str(np.sum((actions == 2.) * (1.-deads) * (1.-rewards))))"
   ]
  },
  {
   "cell_type": "markdown",
   "metadata": {},
   "source": [
    "So, `deads` and `rewards` are mutually exclusive and effectively both Boolean. `actions` has no mutual exclusitivities. Let's calculate our probabilities of occurance."
   ]
  },
  {
   "cell_type": "code",
   "execution_count": 31,
   "metadata": {},
   "outputs": [
    {
     "name": "stdout",
     "output_type": "stream",
     "text": [
      "prob[action_1_dead_0_reward_0] = 0.281535\n",
      "prob[action_0_dead_1_reward_0] = 0.0011\n",
      "prob[action_2_dead_1_reward_0] = 0.0017675\n",
      "prob[action_1_dead_0_reward_1] = 0.0076825\n",
      "prob[action_0_dead_0_reward_0] = 0.353035\n",
      "prob[action_2_dead_0_reward_1] = 0.0085475\n",
      "prob[action_1_dead_1_reward_0] = 0.0009925\n",
      "prob[action_2_dead_0_reward_0] = 0.329545\n",
      "prob[action_0_dead_0_reward_1] = 0.015795\n",
      "total: 0.9999999999999999\n"
     ]
    }
   ],
   "source": [
    "prob = {}\n",
    "prob['action_0_dead_1_reward_0'] = np.sum((actions == 0.) * deads * (1.-rewards))/float(len(mem))\n",
    "prob['action_1_dead_1_reward_0'] = np.sum((actions == 1.) * deads * (1.-rewards))/float(len(mem))\n",
    "prob['action_2_dead_1_reward_0'] = np.sum((actions == 2.) * deads * (1.-rewards))/float(len(mem))\n",
    "prob['action_0_dead_0_reward_1'] = np.sum((actions == 0.) * (1.-deads) * rewards)/float(len(mem))\n",
    "prob['action_1_dead_0_reward_1'] = np.sum((actions == 1.) * (1.-deads) * rewards)/float(len(mem))\n",
    "prob['action_2_dead_0_reward_1'] = np.sum((actions == 2.) * (1.-deads) * rewards)/float(len(mem))\n",
    "prob['action_0_dead_0_reward_0'] = np.sum((actions == 0.) * (1.-deads) * (1.-rewards))/float(len(mem))\n",
    "prob['action_1_dead_0_reward_0'] = np.sum((actions == 1.) * (1.-deads) * (1.-rewards))/float(len(mem))\n",
    "prob['action_2_dead_0_reward_0'] = np.sum((actions == 2.) * (1.-deads) * (1.-rewards))/float(len(mem))\n",
    "for k,v in prob.items():\n",
    "    print('prob['+str(k)+'] = '+str(v))\n",
    "print('total: '+str(sum(prob.values()))) # verify all cases are covered "
   ]
  },
  {
   "cell_type": "markdown",
   "metadata": {},
   "source": [
    "I must be able to simulate our game transitions, but I don't trust a GAN to simulate Boolean values, so I will use some creative conditioning.\n",
    "\n",
    "Let `(state, action, reward, next_state, dead)` be represented by the random tuple $(S_t, A_t, R_t, S_{t+1}, D_t)$.\n",
    "\n",
    "We need to simulate $(S_t, A_t, R_t, S_{t+1}, D_t)$.\n",
    "\n",
    "GANs can simulate $(S_t, S_{t+1})$ but can't simulate $(A_t, R_t, D_t)$. Fortunately, we're able to calculate exact probabilities of $(A_t, R_t, D_t)$ occurances. So, we'll conditionalize as follows and use cGANs.\n",
    "\n",
    "$$f_{S_t, A_t, R_t, S_{t+1}, D_t}(s_t, a_t, r_t, s_{t+1}, d_t) = f_{S_t, S_{t+1} | A_t, R_t, D_t}(s_t, s_{t+1} | a_t, r_t, d_t) f_{A_t, R_t, D_t}(a_t, r_t, d_t)$$\n",
    "\n",
    "Ok, this works. Let's see how transfer learning factors in. Given $q(s_t,a_t)$ is our q-net, let's call our transfered net $q'(s_t, a_t)$. Note that $q' \\not \\in \\mathbb{R}$, it's a matrix.\n",
    "\n",
    "Our transfered net $q'$ isn't actually a function of $a_t$ (i.e. $q'(s_t,a_t) = q'(s_t)$), so we don't actually need to simulate $A_t$. Instead, we'll actually be simulating $q'(S_t)$. So, our simulation process simplifies as follows.\n",
    "\n",
    "$$f_{q'(S_t), R_t, q'(S_{t+1}), D_t}(q'(s_t), r_t, q'(s_{t+1}), d_t) = f_{q'(S_t), q'(S_{t+1}) | R_t, D_t}(q'(s_t), q'(s_{t+1}) | r_t, d_t) f_{R_t, D_t}(r_t, d_t)$$\n",
    "\n",
    "Given this observation, let's recalculate our probabilities for $f_{R_t, D_t}(r_t, d_t)$."
   ]
  },
  {
   "cell_type": "code",
   "execution_count": 32,
   "metadata": {},
   "outputs": [
    {
     "name": "stdout",
     "output_type": "stream",
     "text": [
      "prob[dead_1_reward_1] = 0.0\n",
      "prob[dead_1_reward_0] = 0.00386\n",
      "prob[dead_0_reward_1] = 0.032025\n",
      "prob[dead_0_reward_0] = 0.964115\n",
      "total: 1.0\n"
     ]
    }
   ],
   "source": [
    "prob = {}\n",
    "prob['dead_0_reward_0'] = np.sum((1.-deads) * (1.-rewards))/float(len(mem))\n",
    "prob['dead_1_reward_0'] = np.sum(deads * (1.-rewards))/float(len(mem))\n",
    "prob['dead_0_reward_1'] = np.sum((1.-deads) * rewards)/float(len(mem))\n",
    "prob['dead_1_reward_1'] = np.sum(deads * rewards)/float(len(mem))\n",
    "for k,v in prob.items():\n",
    "    print('prob['+str(k)+'] = '+str(v))\n",
    "print('total: '+str(sum(prob.values()))) # verify all cases are covered "
   ]
  },
  {
   "cell_type": "code",
   "execution_count": null,
   "metadata": {},
   "outputs": [],
   "source": []
  }
 ],
 "metadata": {
  "kernelspec": {
   "display_name": "Python 3",
   "language": "python",
   "name": "python3"
  },
  "language_info": {
   "codemirror_mode": {
    "name": "ipython",
    "version": 3
   },
   "file_extension": ".py",
   "mimetype": "text/x-python",
   "name": "python",
   "nbconvert_exporter": "python",
   "pygments_lexer": "ipython3",
   "version": "3.5.3"
  }
 },
 "nbformat": 4,
 "nbformat_minor": 4
}
