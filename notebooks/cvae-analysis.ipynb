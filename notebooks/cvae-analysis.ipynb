{
 "cells": [
  {
   "cell_type": "markdown",
   "metadata": {},
   "source": [
    "## cVAE convergence evaluation\n",
    "\n",
    "GANs were not good enough. Switching to VAEs because convergence is demonstrable."
   ]
  },
  {
   "cell_type": "code",
   "execution_count": 1,
   "metadata": {},
   "outputs": [],
   "source": [
    "## blob names\n",
    "cgan_model_name = 'cvae-model.h5'\n",
    "cvae_simulated_data_name = 'cvae-example-data.pkl'\n",
    "cvae_fit_stats_name = 'cvae-fit-stats.pkl'"
   ]
  },
  {
   "cell_type": "code",
   "execution_count": 2,
   "metadata": {},
   "outputs": [
    {
     "name": "stdout",
     "output_type": "stream",
     "text": [
      "Copying gs://gdax-dnn-tmp-1/cvae-model.h5...\n",
      "/ [1 files][ 40.6 KiB/ 40.6 KiB]                                                \n",
      "Operation completed over 1 objects/40.6 KiB.                                     \n",
      "Copying gs://gdax-dnn-tmp-1/cvae-example-data.pkl...\n",
      "/ [1 files][ 78.3 KiB/ 78.3 KiB]                                                \n",
      "Operation completed over 1 objects/78.3 KiB.                                     \n",
      "Copying gs://gdax-dnn-tmp-1/cvae-fit-stats.pkl...\n",
      "/ [1 files][  8.5 KiB/  8.5 KiB]                                                \n",
      "Operation completed over 1 objects/8.5 KiB.                                      \n",
      "Copying gs://gdax-dnn-tmp-1/cvae-data.pkl...\n",
      "/ [1 files][ 33.6 MiB/ 33.6 MiB]                                                \n",
      "Operation completed over 1 objects/33.6 MiB.                                     \n",
      "Copying gs://gdax-dnn-tmp-1/cvae-embedding-sample.pkl...\n",
      "/ [1 files][  3.8 MiB/  3.8 MiB]                                                \n",
      "Operation completed over 1 objects/3.8 MiB.                                      \n"
     ]
    }
   ],
   "source": [
    "## get data from storage \n",
    "!gsutil cp gs://gdax-dnn-tmp-1/cvae-model.h5 .\n",
    "!gsutil cp gs://gdax-dnn-tmp-1/cvae-example-data.pkl .\n",
    "!gsutil cp gs://gdax-dnn-tmp-1/cvae-fit-stats.pkl . \n",
    "!gsutil cp gs://gdax-dnn-tmp-1/cvae-data.pkl .\n",
    "!gsutil cp gs://gdax-dnn-tmp-1/cvae-embedding-sample.pkl ."
   ]
  },
  {
   "cell_type": "code",
   "execution_count": 3,
   "metadata": {},
   "outputs": [],
   "source": [
    "#### Loss should converge to zero"
   ]
  },
  {
   "cell_type": "code",
   "execution_count": 4,
   "metadata": {},
   "outputs": [],
   "source": [
    "import matplotlib.pyplot as plt\n",
    "%matplotlib inline\n",
    "\n",
    "def plot_stat(stats):\n",
    "    plt.plot(stats)\n",
    "    plt.show()\n",
    "    pass"
   ]
  },
  {
   "cell_type": "code",
   "execution_count": 5,
   "metadata": {},
   "outputs": [
    {
     "data": {
      "image/png": "[encoded data removed]",
      "text/plain": [
       "<Figure size 432x288 with 1 Axes>"
      ]
     },
     "metadata": {
      "needs_background": "light"
     },
     "output_type": "display_data"
    }
   ],
   "source": [
    "import pickle \n",
    "with open(cvae_fit_stats_name, 'rb') as f:\n",
    "    losses = pickle.load(f)\n",
    "\n",
    "plot_stat(losses)"
   ]
  },
  {
   "cell_type": "code",
   "execution_count": 17,
   "metadata": {},
   "outputs": [
    {
     "data": {
      "text/plain": [
       "0.06082181168971583"
      ]
     },
     "execution_count": 17,
     "metadata": {},
     "output_type": "execute_result"
    }
   ],
   "source": [
    "losses[-1]"
   ]
  },
  {
   "cell_type": "markdown",
   "metadata": {},
   "source": [
    "#### Simulated data histrogram should resembe real"
   ]
  },
  {
   "cell_type": "code",
   "execution_count": 6,
   "metadata": {},
   "outputs": [],
   "source": [
    "## load pickle files \n",
    "with open(cvae_simulated_data_name, 'rb') as f:\n",
    "    cvae_simulated_data = pickle.load(f)\n",
    "#with open(cvae_fit_stats_name, 'rb') as f: ## does not pickle \n",
    "#    cvae_fit_stats = pickle.load(f)"
   ]
  },
  {
   "cell_type": "code",
   "execution_count": 7,
   "metadata": {},
   "outputs": [
    {
     "data": {
      "image/png": "[encoded data removed]",
      "text/plain": [
       "<Figure size 432x288 with 1 Axes>"
      ]
     },
     "metadata": {
      "needs_background": "light"
     },
     "output_type": "display_data"
    }
   ],
   "source": [
    "import matplotlib.pyplot as plt\n",
    "%matplotlib inline\n",
    "\n",
    "def hist(x, num_bins=50, **kwargs):\n",
    "    plt.hist(x, num_bins, **kwargs)\n",
    "    plt.show()\n",
    "    pass\n",
    "\n",
    "hist(cvae_simulated_data.flatten())"
   ]
  },
  {
   "cell_type": "code",
   "execution_count": 8,
   "metadata": {},
   "outputs": [],
   "source": [
    "with open('cvae-data.pkl', 'rb') as f:\n",
    "    cgan_data = pickle.load(f)"
   ]
  },
  {
   "cell_type": "code",
   "execution_count": 9,
   "metadata": {},
   "outputs": [],
   "source": [
    "import numpy as np\n",
    "import random \n",
    "idx = np.random.choice(cgan_data[0].shape[0], 1000)\n",
    "x = cgan_data[0][idx,:]"
   ]
  },
  {
   "cell_type": "code",
   "execution_count": 10,
   "metadata": {},
   "outputs": [
    {
     "data": {
      "image/png": "[encoded data removed]",
      "text/plain": [
       "<Figure size 432x288 with 1 Axes>"
      ]
     },
     "metadata": {
      "needs_background": "light"
     },
     "output_type": "display_data"
    }
   ],
   "source": [
    "hist(x.flatten(), range=(-2, 2))"
   ]
  },
  {
   "cell_type": "markdown",
   "metadata": {},
   "source": [
    "#### Embedding should be normally distributed, uncorrelated "
   ]
  },
  {
   "cell_type": "code",
   "execution_count": 11,
   "metadata": {},
   "outputs": [],
   "source": [
    "with open('cvae-embedding-sample.pkl', 'rb') as f:\n",
    "    cvae_embedding_sample = pickle.load(f)"
   ]
  },
  {
   "cell_type": "code",
   "execution_count": 12,
   "metadata": {},
   "outputs": [],
   "source": [
    "def scatter(x, y):\n",
    "    plt.scatter(x, y)\n",
    "    plt.show()\n",
    "    pass"
   ]
  },
  {
   "cell_type": "code",
   "execution_count": 13,
   "metadata": {},
   "outputs": [
    {
     "data": {
      "text/plain": [
       "(10000, 100)"
      ]
     },
     "execution_count": 13,
     "metadata": {},
     "output_type": "execute_result"
    }
   ],
   "source": [
    "cvae_embedding_sample.shape"
   ]
  },
  {
   "cell_type": "code",
   "execution_count": 14,
   "metadata": {},
   "outputs": [
    {
     "data": {
      "image/png": "[encoded data removed]",
      "text/plain": [
       "<Figure size 432x288 with 1 Axes>"
      ]
     },
     "metadata": {
      "needs_background": "light"
     },
     "output_type": "display_data"
    }
   ],
   "source": [
    "scatter(cvae_embedding_sample[:,0], cvae_embedding_sample[:,1])"
   ]
  },
  {
   "cell_type": "code",
   "execution_count": 15,
   "metadata": {},
   "outputs": [
    {
     "data": {
      "image/png": "[encoded data removed]",
      "text/plain": [
       "<Figure size 432x288 with 1 Axes>"
      ]
     },
     "metadata": {
      "needs_background": "light"
     },
     "output_type": "display_data"
    }
   ],
   "source": [
    "scatter(cvae_embedding_sample[:,1], cvae_embedding_sample[:,2])"
   ]
  },
  {
   "cell_type": "code",
   "execution_count": 16,
   "metadata": {},
   "outputs": [
    {
     "data": {
      "image/png": "[encoded data removed]",
      "text/plain": [
       "<Figure size 432x288 with 1 Axes>"
      ]
     },
     "metadata": {
      "needs_background": "light"
     },
     "output_type": "display_data"
    }
   ],
   "source": [
    "scatter(cvae_embedding_sample[:,9], cvae_embedding_sample[:,19])"
   ]
  }
 ],
 "metadata": {
  "kernelspec": {
   "display_name": "Python 3",
   "language": "python",
   "name": "python3"
  },
  "language_info": {
   "codemirror_mode": {
    "name": "ipython",
    "version": 3
   },
   "file_extension": ".py",
   "mimetype": "text/x-python",
   "name": "python",
   "nbconvert_exporter": "python",
   "pygments_lexer": "ipython3",
   "version": "3.7.6"
  }
 },
 "nbformat": 4,
 "nbformat_minor": 4
}
