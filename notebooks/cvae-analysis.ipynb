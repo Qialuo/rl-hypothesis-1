{
 "cells": [
  {
   "cell_type": "markdown",
   "metadata": {},
   "source": [
    "## cVAE convergence evaluation\n",
    "\n",
    "GANs were not good enough. Switching to VAEs because convergence is demonstrable."
   ]
  },
  {
   "cell_type": "code",
   "execution_count": 1,
   "metadata": {},
   "outputs": [],
   "source": [
    "## blob names\n",
    "cgan_model_name = 'cgan-model.h5'\n",
    "cvae_simulated_data_name = 'cvae-example-data.pkl'\n",
    "cvae_fit_stats_name = 'cvae-fit-stats.pkl'"
   ]
  },
  {
   "cell_type": "code",
   "execution_count": 2,
   "metadata": {},
   "outputs": [
    {
     "name": "stdout",
     "output_type": "stream",
     "text": [
      "Copying gs://gdax-dnn-tmp-1/cgan-model.h5...\n",
      "/ [1 files][ 16.0 MiB/ 16.0 MiB]                                                \n",
      "Operation completed over 1 objects/16.0 MiB.                                     \n",
      "Copying gs://gdax-dnn-tmp-1/cvae-example-data.pkl...\n",
      "/ [1 files][  3.9 MiB/  3.9 MiB]                                                \n",
      "Operation completed over 1 objects/3.9 MiB.                                      \n",
      "Copying gs://gdax-dnn-tmp-1/cvae-fit-stats.pkl...\n",
      "/ [1 files][ 29.6 KiB/ 29.6 KiB]                                                \n",
      "Operation completed over 1 objects/29.6 KiB.                                     \n",
      "Copying gs://gdax-dnn-tmp-1/cgan-data.pkl...\n",
      "| [1 files][  1.5 GiB/  1.5 GiB]    4.5 MiB/s                                   \n",
      "Operation completed over 1 objects/1.5 GiB.                                      \n"
     ]
    }
   ],
   "source": [
    "## get data from storage \n",
    "!gsutil cp gs://gdax-dnn-tmp-1/cgan-model.h5 .\n",
    "!gsutil cp gs://gdax-dnn-tmp-1/cvae-example-data.pkl .\n",
    "!gsutil cp gs://gdax-dnn-tmp-1/cvae-fit-stats.pkl . \n",
    "!gsutil cp gs://gdax-dnn-tmp-1/cgan-data.pkl ."
   ]
  },
  {
   "cell_type": "code",
   "execution_count": 3,
   "metadata": {},
   "outputs": [],
   "source": [
    "import matplotlib.pyplot as plt\n",
    "%matplotlib inline\n",
    "\n",
    "def plot_stat(stats):\n",
    "    plt.plot(stats)\n",
    "    plt.show()\n",
    "    pass"
   ]
  },
  {
   "cell_type": "code",
   "execution_count": 4,
   "metadata": {},
   "outputs": [
    {
     "data": {
      "image/png": "[encoded data removed]",
      "text/plain": [
       "<Figure size 432x288 with 1 Axes>"
      ]
     },
     "metadata": {
      "needs_background": "light"
     },
     "output_type": "display_data"
    }
   ],
   "source": [
    "import pickle \n",
    "with open(cvae_fit_stats_name, 'rb') as f:\n",
    "    losses = pickle.load(f)\n",
    "\n",
    "plot_stat(losses)"
   ]
  },
  {
   "cell_type": "code",
   "execution_count": 5,
   "metadata": {},
   "outputs": [],
   "source": [
    "## load pickle files \n",
    "with open(cvae_simulated_data_name, 'rb') as f:\n",
    "    cvae_simulated_data = pickle.load(f)\n",
    "#with open(cvae_fit_stats_name, 'rb') as f: ## does not pickle \n",
    "#    cvae_fit_stats = pickle.load(f)"
   ]
  },
  {
   "cell_type": "code",
   "execution_count": 6,
   "metadata": {},
   "outputs": [
    {
     "data": {
      "image/png": "[encoded data removed]",
      "text/plain": [
       "<Figure size 432x288 with 1 Axes>"
      ]
     },
     "metadata": {
      "needs_background": "light"
     },
     "output_type": "display_data"
    }
   ],
   "source": [
    "import matplotlib.pyplot as plt\n",
    "%matplotlib inline\n",
    "\n",
    "def hist(x, num_bins=50, **kwargs):\n",
    "    plt.hist(x, num_bins, **kwargs)\n",
    "    plt.show()\n",
    "    pass\n",
    "\n",
    "hist(cvae_simulated_data.flatten())"
   ]
  },
  {
   "cell_type": "code",
   "execution_count": 7,
   "metadata": {},
   "outputs": [],
   "source": [
    "with open('cgan-data.pkl', 'rb') as f:\n",
    "    cgan_data = pickle.load(f)"
   ]
  },
  {
   "cell_type": "code",
   "execution_count": 8,
   "metadata": {},
   "outputs": [],
   "source": [
    "import numpy as np\n",
    "import random \n",
    "idx = np.random.choice(cgan_data[0].shape[0], 1000)\n",
    "x = cgan_data[0][idx,:]"
   ]
  },
  {
   "cell_type": "code",
   "execution_count": 9,
   "metadata": {},
   "outputs": [
    {
     "data": {
      "image/png": "[encoded data removed]",
      "text/plain": [
       "<Figure size 432x288 with 1 Axes>"
      ]
     },
     "metadata": {
      "needs_background": "light"
     },
     "output_type": "display_data"
    }
   ],
   "source": [
    "hist(x.flatten(), range=(-2, 2))"
   ]
  },
  {
   "cell_type": "code",
   "execution_count": null,
   "metadata": {},
   "outputs": [],
   "source": []
  }
 ],
 "metadata": {
  "kernelspec": {
   "display_name": "Python 3",
   "language": "python",
   "name": "python3"
  },
  "language_info": {
   "codemirror_mode": {
    "name": "ipython",
    "version": 3
   },
   "file_extension": ".py",
   "mimetype": "text/x-python",
   "name": "python",
   "nbconvert_exporter": "python",
   "pygments_lexer": "ipython3",
   "version": "3.7.6"
  }
 },
 "nbformat": 4,
 "nbformat_minor": 4
}
